{
 "cells": [
  {
   "cell_type": "markdown",
   "metadata": {},
   "source": [
    "# First Steps: \n",
    "Change the working directory to TRINA so you can do the imports without too much thinking"
   ]
  },
  {
   "cell_type": "code",
   "execution_count": null,
   "metadata": {},
   "outputs": [],
   "source": [
    "import os\n",
    "# os.chdir('~/TRINA')\n",
    "home = os.path.expanduser(\"~\")\n",
    "\n",
    "trina_dir = os.path.join(home,'TRINA')\n",
    "os.chdir(trina_dir)"
   ]
  },
  {
   "cell_type": "markdown",
   "metadata": {},
   "source": [
    "# We now import the relevant libraries for this tutorial:\n",
    "Jarvis and the Sensor Module and motion_client and Klampt"
   ]
  },
  {
   "cell_type": "code",
   "execution_count": null,
   "metadata": {},
   "outputs": [],
   "source": [
    "from Jarvis import Jarvis\n",
    "from SensorModule import Camera_Robot\n",
    "from Motion import MotionClient\n",
    "from klampt import WorldModel,Geometry3D\n"
   ]
  },
  {
   "cell_type": "markdown",
   "metadata": {},
   "source": [
    "# Testing your module in the jarvis Environment\n",
    "\n",
    "The first thing you must remember is that in order to test this you will need to create two things: One Jarvis Instance and one Camera_Robot instance.\n",
    "\n",
    "In order to create the Camera_Robot Instance you will need two elements: \n",
    "One motion_client instance, so that the module can query the robot's position (useful in simulation and in real life to perform the transforms to the cameras) and one Klampt world instance, which is useful in simulation (so that the robot can simulate sensor outputs)\n",
    "\n",
    "In this tutorial, we will use one of our sample worlds, './Motion/data/TRINA_world_anthrax_PointClick.xml'\n",
    "## starting the motion_client instance"
   ]
  },
  {
   "cell_type": "code",
   "execution_count": null,
   "metadata": {},
   "outputs": [],
   "source": [
    "# in this example, we are running everything locally, so the robot's IP is localhost and our mode is \"Kinematic\"\n",
    "robot_ip =  'http://localhost:8080'\n",
    "mode = 'Kinematic'\n",
    "# we also wish to be able to control all the components, so our components are:\n",
    "components = ['base','left_limb','right_limb','left_gripper']\n",
    "\n",
    "# before running this part, make sure you already have a motion_server.py and command_server.py running!\n",
    "robot = MotionClient(address = robot_ip)\n",
    "robot.restartServer(mode = mode, components = components,codename = 'anthrax_lowpoly')"
   ]
  },
  {
   "cell_type": "markdown",
   "metadata": {},
   "source": [
    "# loading the world and starting sensor_module instance"
   ]
  },
  {
   "cell_type": "code",
   "execution_count": null,
   "metadata": {},
   "outputs": [],
   "source": [
    "world_file = './Motion/data/TRINA_world_anthrax_PointClick.xml'\n",
    "# we load the world we wish to simulate\n",
    "world = WorldModel()\n",
    "world.readFile(world_file )\n",
    "\n",
    "# then create a sensor_module instance using the motionClient instance and the world we created\n",
    "sensor_module = Camera_Robot(robot = robot,world = world)"
   ]
  },
  {
   "cell_type": "markdown",
   "metadata": {},
   "source": [
    "# Jarvis instance creation:\n",
    "\n",
    "You now have all you need to create your own Jarvis instance and start using it exactly as you wold within your own module! The only thing of note is that, by default, the command server ignores commands of inactive modules, which, in theory, had to be activated by the UI. In order to remedy that, there is a set of module names that are always set as active. They are: 'UI', 'devel' and 'debug'. While testing your module, it is a good idea to set your module name in jarvis to be 'devel'."
   ]
  },
  {
   "cell_type": "code",
   "execution_count": null,
   "metadata": {},
   "outputs": [],
   "source": [
    "jarvis = Jarvis(str('devel'),sensor_module)"
   ]
  },
  {
   "cell_type": "markdown",
   "metadata": {},
   "source": [
    "This jarvis instance should now behave exactly as it would if you had received if as an argument to your module - except it bypasses the activity status check because of its name."
   ]
  },
  {
   "cell_type": "code",
   "execution_count": null,
   "metadata": {},
   "outputs": [],
   "source": [
    "jarvis.setBaseVelocity([0,0])"
   ]
  },
  {
   "cell_type": "markdown",
   "metadata": {},
   "source": [
    "# End of Tutorial"
   ]
  }
 ],
 "metadata": {
  "kernelspec": {
   "display_name": "Python 2",
   "language": "python",
   "name": "python2"
  },
  "language_info": {
   "codemirror_mode": {
    "name": "ipython",
    "version": 2
   },
   "file_extension": ".py",
   "mimetype": "text/x-python",
   "name": "python",
   "nbconvert_exporter": "python",
   "pygments_lexer": "ipython2",
   "version": "2.7.17"
  },
  "varInspector": {
   "cols": {
    "lenName": 16,
    "lenType": 16,
    "lenVar": 40
   },
   "kernels_config": {
    "python": {
     "delete_cmd_postfix": "",
     "delete_cmd_prefix": "del ",
     "library": "var_list.py",
     "varRefreshCmd": "print(var_dic_list())"
    },
    "r": {
     "delete_cmd_postfix": ") ",
     "delete_cmd_prefix": "rm(",
     "library": "var_list.r",
     "varRefreshCmd": "cat(var_dic_list()) "
    }
   },
   "types_to_exclude": [
    "module",
    "function",
    "builtin_function_or_method",
    "instance",
    "_Feature"
   ],
   "window_display": false
  }
 },
 "nbformat": 4,
 "nbformat_minor": 4
}
