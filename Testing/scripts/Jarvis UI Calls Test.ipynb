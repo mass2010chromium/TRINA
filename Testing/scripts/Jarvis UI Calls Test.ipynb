{
 "cells": [
  {
   "cell_type": "code",
   "execution_count": 1,
   "metadata": {},
   "outputs": [],
   "source": [
    "from jarvis import Jarvis\n",
    "import klampt\n",
    "from klampt.model import ik,coordinates,config,trajectory,collide\n",
    "from klampt import io"
   ]
  },
  {
   "cell_type": "markdown",
   "metadata": {},
   "source": [
    "## Start Jarvis"
   ]
  },
  {
   "cell_type": "code",
   "execution_count": 4,
   "metadata": {},
   "outputs": [],
   "source": [
    "jarvis = Jarvis('PointClickNav')"
   ]
  },
  {
   "cell_type": "code",
   "execution_count": 6,
   "metadata": {},
   "outputs": [
    {
     "data": {
      "text/plain": [
       "{u'C1': u'idle',\n",
       " u'C2': u'idle',\n",
       " u'DirectTeleOperation': u'idle',\n",
       " u'PointClickNav': u'active',\n",
       " u'UI': u'idle'}"
      ]
     },
     "execution_count": 6,
     "metadata": {},
     "output_type": "execute_result"
    }
   ],
   "source": [
    "jarvis.server['ACTIVITY_STATUS'].read()"
   ]
  },
  {
   "cell_type": "code",
   "execution_count": 10,
   "metadata": {},
   "outputs": [],
   "source": [
    "jarvis.setBaseVelocity([1,0])"
   ]
  },
  {
   "cell_type": "markdown",
   "metadata": {},
   "source": [
    "#### Add text to specfified location on UI screen. "
   ]
  },
  {
   "cell_type": "code",
   "execution_count": 7,
   "metadata": {},
   "outputs": [
    {
     "name": "stdout",
     "output_type": "stream",
     "text": [
      "('commandQueue', [{'args': {'color': [1, 0, 0], 'text': 'test string', 'name': 'text1', 'size': 50}, 'from': 'PointClickNav', 'funcName': 'addText'}])\n"
     ]
    },
    {
     "data": {
      "text/plain": [
       "'text1'"
      ]
     },
     "execution_count": 7,
     "metadata": {},
     "output_type": "execute_result"
    }
   ],
   "source": [
    "jarvis.addTextUI('text1','test string',[1,0,0],50)"
   ]
  },
  {
   "cell_type": "markdown",
   "metadata": {},
   "source": [
    "#### Display a confimation window with specified title and text, a string of 'YES' or \"NO\" is returned\n",
    "* BLOCKING"
   ]
  },
  {
   "cell_type": "code",
   "execution_count": 12,
   "metadata": {},
   "outputs": [
    {
     "name": "stdout",
     "output_type": "stream",
     "text": [
      "commandQueue [{'args': {'text': 'confirm?', 'id': '$8b4b82b4b0ff11ea93170c5415f1d385', 'title': 'confirm title'}, 'funcName': 'addConfirmation'}]\n"
     ]
    },
    {
     "data": {
      "text/plain": [
       "'YES'"
      ]
     },
     "execution_count": 12,
     "metadata": {},
     "output_type": "execute_result"
    }
   ],
   "source": [
    "jarvis.sendAndGetConfirmationUI('confirm title','confirm?')"
   ]
  },
  {
   "cell_type": "markdown",
   "metadata": {},
   "source": [
    "#### Display a confimation window with specified title and text, id for UI feedback is returned"
   ]
  },
  {
   "cell_type": "code",
   "execution_count": 5,
   "metadata": {},
   "outputs": [
    {
     "name": "stdout",
     "output_type": "stream",
     "text": [
      "commandQueue [{'args': {'text': 'confirm?', 'id': '$d0f5a336b0fe11ea93170c5415f1d385', 'title': 'confirm title'}, 'funcName': 'addConfirmation'}]\n"
     ]
    },
    {
     "data": {
      "text/plain": [
       "'$d0f5a336b0fe11ea93170c5415f1d385'"
      ]
     },
     "execution_count": 5,
     "metadata": {},
     "output_type": "execute_result"
    }
   ],
   "source": [
    "jarvis.sendConfirmationUI('confirm title','confirm?')"
   ]
  },
  {
   "cell_type": "markdown",
   "metadata": {},
   "source": [
    "#### Get the feedback of Confirmation Window of the specified id. "
   ]
  },
  {
   "cell_type": "code",
   "execution_count": 6,
   "metadata": {},
   "outputs": [
    {
     "data": {
      "text/plain": [
       "'YES'"
      ]
     },
     "execution_count": 6,
     "metadata": {},
     "output_type": "execute_result"
    }
   ],
   "source": [
    "jarvis.getConfirmationUI('$d0f5a336b0fe11ea93170c5415f1d385')"
   ]
  },
  {
   "cell_type": "markdown",
   "metadata": {},
   "source": [
    "#### Send a trajectory to UI, UI will add the path preview "
   ]
  },
  {
   "cell_type": "code",
   "execution_count": 15,
   "metadata": {},
   "outputs": [
    {
     "name": "stdout",
     "output_type": "stream",
     "text": [
      "commandQueue [{'args': {'trajectory': {'times': [0, 1, 2, 3, 4, 5, 6, 7, 8, 9], 'milestones': [[0, 0, 0.05], [0, 1, 0.05], [0, 2, 0.05], [0, 3, 0.05], [0, 4, 0.05], [0, 5, 0.05], [0, 6, 0.05], [0, 7, 0.05], [0, 8, 0.05], [0, 9, 0.05]]}, 'animate': False}, 'funcName': 'sendTrajectory'}]\n"
     ]
    }
   ],
   "source": [
    "times = list(range(10))\n",
    "milestones = []\n",
    "for t in times:\n",
    "    milestones.append([0,t,0.05])\n",
    "traj = trajectory.Trajectory(times,milestones)\n",
    "\n",
    "jarvis.sendTrajectoryUI(traj)"
   ]
  },
  {
   "cell_type": "markdown",
   "metadata": {},
   "source": [
    "#### Ask the user to click twice on the map, and sending back 2 ray objects according to the user clicks. first one for destination, second one for calibration. Both ray would be returned\n",
    "* BLOCKING"
   ]
  },
  {
   "cell_type": "code",
   "execution_count": 16,
   "metadata": {},
   "outputs": [
    {
     "name": "stdout",
     "output_type": "stream",
     "text": [
      "commandQueue [{'args': {'id': '$09551ca6b10011ea93170c5415f1d385'}, 'funcName': 'getRayClick'}]\n"
     ]
    },
    {
     "data": {
      "text/plain": [
       "{'FIRST_RAY': {'destination': [-0.8927711203757402,\n",
       "   -0.11820081871412864,\n",
       "   -0.4347278379381235],\n",
       "  'source': [7.905569151109208, 0.1518346315161588, 3.1581672075176455]},\n",
       " 'SECOND_RAY': {'destination': [-0.8841138159871846,\n",
       "   -0.016091995383782587,\n",
       "   -0.4669944411501566],\n",
       "  'source': [7.905569151109208, 0.1518346315161588, 3.1581672075176455]}}"
      ]
     },
     "execution_count": 16,
     "metadata": {},
     "output_type": "execute_result"
    }
   ],
   "source": [
    "jarvis.sendAndGetRayClickUI()"
   ]
  },
  {
   "cell_type": "markdown",
   "metadata": {},
   "source": [
    "#### Ask the user to click twice on the map, and sending back 2 ray objects according to the user clicks. first one for destination, second one for calibration,. id for feedback is returned"
   ]
  },
  {
   "cell_type": "code",
   "execution_count": 9,
   "metadata": {},
   "outputs": [
    {
     "name": "stdout",
     "output_type": "stream",
     "text": [
      "commandQueue [{'funcName': 'getRayClick', 'args': {'id': '$39a470f2adac11ea83710c5415f1d385'}}]\n"
     ]
    },
    {
     "data": {
      "text/plain": [
       "'$39a470f2adac11ea83710c5415f1d385'"
      ]
     },
     "execution_count": 9,
     "metadata": {},
     "output_type": "execute_result"
    }
   ],
   "source": [
    "jarvis.sendRayClickUI()"
   ]
  },
  {
   "cell_type": "markdown",
   "metadata": {},
   "source": [
    "#### Get the feedback of Ray Click of the specified id."
   ]
  },
  {
   "cell_type": "code",
   "execution_count": 11,
   "metadata": {},
   "outputs": [
    {
     "data": {
      "text/plain": [
       "{'FIRST_RAY': {'destination': [0.34415923676829907,\n",
       "   -0.5930326957858032,\n",
       "   -0.7279193921555358],\n",
       "  'source': [-2.779546220842925, 11.956887902727875, 10.985747680500648]},\n",
       " 'SECOND_RAY': {'destination': [0.3329046111695149,\n",
       "   -0.5931798824328145,\n",
       "   -0.7330157890107596],\n",
       "  'source': [-2.779546220842925, 11.956887902727875, 10.985747680500648]}}"
      ]
     },
     "execution_count": 11,
     "metadata": {},
     "output_type": "execute_result"
    }
   ],
   "source": [
    "jarvis.getRayClickUI('$39a470f2adac11ea83710c5415f1d385')"
   ]
  },
  {
   "cell_type": "markdown",
   "metadata": {},
   "source": [
    "#### Add a button to the UI window"
   ]
  },
  {
   "cell_type": "code",
   "execution_count": 12,
   "metadata": {},
   "outputs": [
    {
     "name": "stdout",
     "output_type": "stream",
     "text": [
      "commandQueue [{'funcName': 'addButton', 'args': {'text': 'testbutton', 'name': 'button1'}}]\n"
     ]
    },
    {
     "data": {
      "text/plain": [
       "'button1'"
      ]
     },
     "execution_count": 12,
     "metadata": {},
     "output_type": "execute_result"
    }
   ],
   "source": [
    "jarvis.addButtonUI('button1','testbutton')"
   ]
  },
  {
   "cell_type": "markdown",
   "metadata": {},
   "source": [
    "#### A loop checking if created button is clicked"
   ]
  },
  {
   "cell_type": "code",
   "execution_count": 13,
   "metadata": {},
   "outputs": [
    {
     "name": "stdout",
     "output_type": "stream",
     "text": [
      "button is clicked\n",
      "button is clicked\n",
      "button is clicked\n",
      "button is clicked\n",
      "button is clicked\n"
     ]
    }
   ],
   "source": [
    "n = 0\n",
    "while(n<10000):\n",
    "    n += 1\n",
    "    if jarvis.getButtonClickUI('button1'):\n",
    "        print(\"button is clicked\")"
   ]
  },
  {
   "cell_type": "code",
   "execution_count": 14,
   "metadata": {},
   "outputs": [
    {
     "name": "stdout",
     "output_type": "stream",
     "text": [
      "commandQueue [{'funcName': 'addButton', 'args': {'text': 'testbutton2', 'name': 'button2'}}]\n"
     ]
    },
    {
     "data": {
      "text/plain": [
       "'button2'"
      ]
     },
     "execution_count": 14,
     "metadata": {},
     "output_type": "execute_result"
    }
   ],
   "source": [
    "jarvis.addButtonUI('button2','testbutton2')"
   ]
  },
  {
   "cell_type": "code",
   "execution_count": null,
   "metadata": {},
   "outputs": [],
   "source": []
  },
  {
   "cell_type": "code",
   "execution_count": null,
   "metadata": {},
   "outputs": [],
   "source": []
  }
 ],
 "metadata": {
  "celltoolbar": "Raw Cell Format",
  "kernelspec": {
   "display_name": "Python 2",
   "language": "python",
   "name": "python2"
  },
  "toc": {
   "base_numbering": 1,
   "nav_menu": {},
   "number_sections": true,
   "sideBar": true,
   "skip_h1_title": false,
   "title_cell": "Table of Contents",
   "title_sidebar": "Contents",
   "toc_cell": false,
   "toc_position": {},
   "toc_section_display": true,
   "toc_window_display": false
  },
  "varInspector": {
   "cols": {
    "lenName": 16,
    "lenType": 16,
    "lenVar": 40
   },
   "kernels_config": {
    "python": {
     "delete_cmd_postfix": "",
     "delete_cmd_prefix": "del ",
     "library": "var_list.py",
     "varRefreshCmd": "print(var_dic_list())"
    },
    "r": {
     "delete_cmd_postfix": ") ",
     "delete_cmd_prefix": "rm(",
     "library": "var_list.r",
     "varRefreshCmd": "cat(var_dic_list()) "
    }
   },
   "types_to_exclude": [
    "module",
    "function",
    "builtin_function_or_method",
    "instance",
    "_Feature"
   ],
   "window_display": false
  }
 },
 "nbformat": 4,
 "nbformat_minor": 4
}
