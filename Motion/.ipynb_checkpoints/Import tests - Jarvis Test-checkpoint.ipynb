{
 "cells": [
  {
   "cell_type": "code",
   "execution_count": null,
   "metadata": {},
   "outputs": [],
   "source": [
    "from importlib import reload \n",
    "import trina_modules\n",
    "import time\n",
    "import multiprocessing\n"
   ]
  },
  {
   "cell_type": "markdown",
   "metadata": {},
   "source": [
    "# Testing dynamic imports:"
   ]
  },
  {
   "cell_type": "code",
   "execution_count": null,
   "metadata": {},
   "outputs": [],
   "source": [
    "import sys, inspect\n",
    "\n",
    "\n",
    "def start_module(module):\n",
    "    a = module()\n",
    "    return a.return_processes()\n",
    "\n",
    "modules_dict = {}\n",
    "while(True):\n",
    "    trina_modules = reload(trina_modules)\n",
    "    for name, obj in inspect.getmembers(trina_modules):\n",
    "        if inspect.isclass(obj):\n",
    "            tmp = obj()\n",
    "            modules_dict.update({name:tmp})\n",
    "            print(tmp.name)\n",
    "    print(modules_dict)\n",
    "    time.sleep(3)\n"
   ]
  },
  {
   "cell_type": "markdown",
   "metadata": {},
   "source": [
    "# Testing Process-based control:\n"
   ]
  },
  {
   "cell_type": "code",
   "execution_count": null,
   "metadata": {},
   "outputs": [],
   "source": [
    "from importlib import reload \n",
    "import trina_modules\n",
    "import time\n",
    "import multiprocessing\n"
   ]
  },
  {
   "cell_type": "code",
   "execution_count": null,
   "metadata": {},
   "outputs": [],
   "source": [
    "import sys, inspect\n",
    "\n",
    "\n",
    "def start_module(module):\n",
    "    a = module()\n",
    "    return a.return_processes()\n",
    "\n",
    "modules_dict = {}\n",
    "trina_modules = reload(trina_modules)\n",
    "for name, obj in inspect.getmembers(trina_modules):\n",
    "    if inspect.isclass(obj):\n",
    "        tmp = start_module(obj)\n",
    "        modules_dict.update({name:tmp})\n",
    "print(modules_dict)\n"
   ]
  },
  {
   "cell_type": "code",
   "execution_count": null,
   "metadata": {},
   "outputs": [],
   "source": [
    "modules_dict['C1'][1].terminate()"
   ]
  },
  {
   "cell_type": "code",
   "execution_count": null,
   "metadata": {},
   "outputs": [],
   "source": [
    "modules_dict['C2'][1].terminate()"
   ]
  },
  {
   "cell_type": "code",
   "execution_count": null,
   "metadata": {},
   "outputs": [],
   "source": [
    "shape = [[(-6,1)],\n",
    "         [(-13,2),(-13,1),(-12,1),(-12,2)],\n",
    "         [(-11,4),(-11,-2),(-9,-2),(-9,4)],\n",
    "         [(-8,7),(-7,6),(-6,6),(-5,7),(-6,8),(-7,8)],\n",
    "         [(-2,8),(-2,0),(0,0),(0,8)],\n",
    "         [(3,6),(4,6),(5,7),(4,8),(3,8),(2,7)],\n",
    "         [(11,12),(11,7),(13,7),(13,12)],\n",
    "         [(13,5),(13,2),(12,2),(12,5)],\n",
    "         [(13,-3),(11,-5),[14,-5]]\n",
    "        ]"
   ]
  },
  {
   "cell_type": "markdown",
   "metadata": {},
   "source": [
    "# Testing relevant reem interactions:"
   ]
  },
  {
   "cell_type": "code",
   "execution_count": null,
   "metadata": {},
   "outputs": [],
   "source": [
    "from importlib import reload \n",
    "import trina_modules\n",
    "import time\n",
    "import multiprocessing\n",
    "from reem.connection import RedisInterface\n",
    "from reem.datatypes import KeyValueStore\n",
    "import sys, inspect\n",
    "\n",
    "\n",
    "interface = RedisInterface(host=\"localhost\")\n",
    "interface.initialize()\n",
    "server = KeyValueStore(interface)\n",
    "\n",
    "import sys, inspect"
   ]
  },
  {
   "cell_type": "code",
   "execution_count": null,
   "metadata": {},
   "outputs": [],
   "source": [
    "def start_module(module):\n",
    "    a = module()\n",
    "    return a.return_processes()\n",
    "\n",
    "modules_dict = {}\n",
    "trina_modules = reload(trina_modules)\n",
    "health_dict = {}\n",
    "\n",
    "for name, obj in inspect.getmembers(trina_modules):\n",
    "    if inspect.isclass(obj):\n",
    "        if(str(obj).find('trina_modules')):\n",
    "            print(name)\n",
    "            tmp = start_module(obj)\n",
    "            modules_dict.update({name:tmp})\n",
    "            health_dict.update({name:[True,time.time()]})\n",
    "server['health_log'] = health_dict"
   ]
  },
  {
   "cell_type": "code",
   "execution_count": null,
   "metadata": {},
   "outputs": [],
   "source": [
    "class Jarvis:\n",
    "\n",
    "    def __init__(self):\n",
    "        import trina_modules\n",
    "        self.modules_dict = {}\n",
    "        self.health_dict = {}\n",
    "\n",
    "        self.start_modules()\n",
    "        self.interface = RedisInterface(host=\"localhost\")\n",
    "        self.interface.initialize()\n",
    "        self.server = KeyValueStore(interface)\n",
    "    def start_module(self,module):\n",
    "        a = module()\n",
    "        return a.return_processes()\n",
    "\n",
    "    def start_modules(self,module_names = []):\n",
    "        import trina_modules\n",
    "        trina_modules = reload(trina_modules)\n",
    "        if(module_names == []):\n",
    "            for name, obj in inspect.getmembers(trina_modules):\n",
    "                if inspect.isclass(obj):\n",
    "                    if(str(obj).find('trina_modules')):\n",
    "                        tmp = self.start_module(obj)\n",
    "                        self.modules_dict.update({name:tmp})\n",
    "                        self.health_dict.update({name:[True,time.time()]})\n",
    "            server['health_log'] = self.health_dict                        \n",
    "        else:\n",
    "            print('starting only modules '+ str(module_names))\n",
    "            for name, obj in inspect.getmembers(trina_modules):\n",
    "                if inspect.isclass(obj):\n",
    "                    if(str(obj).find('trina_modules')):\n",
    "                        if(name in module_names):\n",
    "                            print('killing module '+ name)\n",
    "                            for pcess in self.modules_dict[name]:\n",
    "                                pcess.terminate()\n",
    "                            self.modules_dict.update({name:[]})\n",
    "                            print('restarting only module ' + name)\n",
    "                            tmp = self.start_module(obj)\n",
    "                            self.modules_dict.update({name:tmp})\n",
    "                            self.server['health_log'][name] = [True,time.time()]\n",
    "    def scream(self):\n",
    "        print('aaaaaaaaaaaaaaaaaa')"
   ]
  },
  {
   "cell_type": "code",
   "execution_count": null,
   "metadata": {
    "scrolled": true
   },
   "outputs": [],
   "source": [
    "a = Jarvis()\n",
    "# a.start_modules(['C1'])"
   ]
  },
  {
   "cell_type": "code",
   "execution_count": null,
   "metadata": {},
   "outputs": [],
   "source": [
    "for i in range(100):\n",
    "    print(a.server['health_log']['C1'].read()[1] - time.time())\n",
    "    time.sleep(4)"
   ]
  },
  {
   "cell_type": "markdown",
   "metadata": {},
   "source": [
    "# Testing command_server actual implementation\n"
   ]
  },
  {
   "cell_type": "code",
   "execution_count": null,
   "metadata": {},
   "outputs": [],
   "source": [
    "from command_server import CommandServer\n",
    "import sys, inspect\n",
    "import os\n",
    "import shlex, subprocess\n"
   ]
  },
  {
   "cell_type": "code",
   "execution_count": null,
   "metadata": {
    "scrolled": true
   },
   "outputs": [],
   "source": [
    "Jarvis = CommandServer()"
   ]
  },
  {
   "cell_type": "code",
   "execution_count": null,
   "metadata": {},
   "outputs": [],
   "source": [
    "Jarvis.shutdown_all()"
   ]
  },
  {
   "cell_type": "code",
   "execution_count": null,
   "metadata": {
    "code_folding": [
     3
    ]
   },
   "outputs": [],
   "source": [
    "import threading\n",
    "import time\n",
    "import multiprocessing\n",
    "class error_raiser:\n",
    "    def __init__(self):\n",
    "        self.raiser = multiprocessing.Process(target = self.error_creator)\n",
    "        self.regular = multiprocessing.Process(target = self.hardworker)\n",
    "        self.raiser.start()\n",
    "        self.regular.start()\n",
    "    def error_creator(self):\n",
    "        start_time = time.time()\n",
    "        while(True):\n",
    "            now = time.time()\n",
    "            print('waiting to start trouble')\n",
    "            if((now-start_time) > 5):\n",
    "                raise Exception('Timeout, punk!')\n",
    "            time.sleep(1)\n",
    "    def hardworker(self):\n",
    "        while(True):\n",
    "            print('Working Hard \\n')\n",
    "            time.sleep(1)\n",
    "    def return_processes(self):\n",
    "        return [self.raiser,self.regular]"
   ]
  },
  {
   "cell_type": "code",
   "execution_count": null,
   "metadata": {
    "scrolled": true
   },
   "outputs": [],
   "source": [
    "a = error_raiser()\n",
    "processes = a.return_processes()"
   ]
  },
  {
   "cell_type": "code",
   "execution_count": null,
   "metadata": {},
   "outputs": [],
   "source": [
    "a = [0,[2.0,3],4,1,2,3,45,2,3,'4',5,6]\n",
    "\n",
    "b = 'c = ' + str(a)\n",
    "b"
   ]
  },
  {
   "cell_type": "code",
   "execution_count": null,
   "metadata": {
    "scrolled": true
   },
   "outputs": [],
   "source": [
    "exec(b)\n",
    "c"
   ]
  },
  {
   "cell_type": "code",
   "execution_count": null,
   "metadata": {},
   "outputs": [],
   "source": [
    "c[2]"
   ]
  },
  {
   "cell_type": "markdown",
   "metadata": {},
   "source": [
    "# Testing command execution"
   ]
  },
  {
   "cell_type": "code",
   "execution_count": null,
   "metadata": {},
   "outputs": [],
   "source": [
    "from command_server import CommandServer\n",
    "from reem.connection import RedisInterface\n",
    "from reem.datatypes import KeyValueStore"
   ]
  },
  {
   "cell_type": "code",
   "execution_count": null,
   "metadata": {},
   "outputs": [],
   "source": [
    "Jarvis = CommandServer()"
   ]
  },
  {
   "cell_type": "code",
   "execution_count": null,
   "metadata": {},
   "outputs": [],
   "source": [
    "interface = RedisInterface(host=\"localhost\")\n",
    "interface.initialize()\n",
    "server = KeyValueStore(interface)"
   ]
  },
  {
   "cell_type": "code",
   "execution_count": null,
   "metadata": {},
   "outputs": [],
   "source": [
    "server['ROBOT_COMMAND'].read()\n",
    "command = [\"print('printing something nice')\",\"print('printing something mean')\",\"print('instantiating a variable')\",\n",
    "          \"self.instantiated_var = np.random.randint(1000,size = (5,5))\",\"print('printing random variable')\",\"print('this is what I instatiated',self.instantiated_var)\"]\n",
    "command_0 = [\"print('printing something of extremely high priority')\"]"
   ]
  },
  {
   "cell_type": "code",
   "execution_count": null,
   "metadata": {},
   "outputs": [],
   "source": [
    "server['ROBOT_COMMAND']['P4'] = command\n",
    "server['ROBOT_COMMAND']['P0'] = command_0\n"
   ]
  },
  {
   "cell_type": "markdown",
   "metadata": {},
   "source": [
    "# testing command sender:"
   ]
  },
  {
   "cell_type": "code",
   "execution_count": null,
   "metadata": {},
   "outputs": [],
   "source": [
    "from command_server import CommandServer\n",
    "from reem.connection import RedisInterface\n",
    "from reem.datatypes import KeyValueStore\n",
    "from motion_client_python3 import MotionClient\n",
    "from jarvis import Jarvis\n",
    "\n",
    "\n",
    "command_server = CommandServer()\n",
    "jarvis = Jarvis()\n",
    "\n",
    "\n",
    "interface = RedisInterface(host=\"localhost\")\n",
    "interface.initialize()\n",
    "server = KeyValueStore(interface)\n",
    "robot_ip = 'http://localhost:8080'\n",
    "\n"
   ]
  },
  {
   "cell_type": "code",
   "execution_count": null,
   "metadata": {},
   "outputs": [],
   "source": [
    "jarvis.sensedBasePosition()"
   ]
  },
  {
   "cell_type": "code",
   "execution_count": null,
   "metadata": {},
   "outputs": [],
   "source": [
    "server['ROBOT_STATE'].read()"
   ]
  },
  {
   "cell_type": "code",
   "execution_count": null,
   "metadata": {},
   "outputs": [],
   "source": [
    "# testing string sender:\n",
    "def send_command(command,*args):\n",
    "    final_string = str(command)+ '('\n",
    "    for index,arg in enumerate(args):\n",
    "        if(index != len(args)-1):\n",
    "            final_string += '{},'\n",
    "        else:\n",
    "            final_string += '{}'\n",
    "    final_string = (final_string + ')')\n",
    "    final_string = final_string.format(*args)\n",
    "    return final_string"
   ]
  },
  {
   "cell_type": "code",
   "execution_count": null,
   "metadata": {},
   "outputs": [],
   "source": [
    "a = server['ROBOT_COMMAND'].read()\n",
    "command = [\"print('printing something nice')\",\"print('printing something mean')\",\"print('instantiating a variable')\",\n",
    "          \"self.instantiated_var = np.random.randint(1000,size = (5,5))\",\"print('printing random variable')\",\"print('this is what I instatiated',self.instantiated_var)\"]\n",
    "command_0 = [\"print('printing something of extremely high priority')\"]"
   ]
  },
  {
   "cell_type": "code",
   "execution_count": null,
   "metadata": {},
   "outputs": [],
   "source": [
    "server['ROBOT_COMMAND']['P4'] = command\n",
    "server['ROBOT_COMMAND']['P0'] = command_0\n"
   ]
  },
  {
   "cell_type": "code",
   "execution_count": null,
   "metadata": {},
   "outputs": [],
   "source": [
    "import numpy as np\n",
    "queue = server['ROBOT_COMMAND']['P0'].read()\n",
    "queue.append((send_command('self.robot.setBaseVelocity','[1,2]')))\n",
    "server['ROBOT_COMMAND']['P0'] = queue\n"
   ]
  },
  {
   "cell_type": "code",
   "execution_count": null,
   "metadata": {},
   "outputs": [],
   "source": [
    "send_command('self.robot.setBaseVelocity','[1,2]')"
   ]
  },
  {
   "cell_type": "code",
   "execution_count": null,
   "metadata": {},
   "outputs": [],
   "source": [
    "server['ROBOT_COMMAND']['P0'].read()"
   ]
  },
  {
   "cell_type": "code",
   "execution_count": null,
   "metadata": {},
   "outputs": [],
   "source": [
    "server['ROBOT_STATE'].read()"
   ]
  },
  {
   "cell_type": "code",
   "execution_count": null,
   "metadata": {},
   "outputs": [],
   "source": [
    "Jarvis.query_robot.sensedLeftEETransform()"
   ]
  },
  {
   "cell_type": "code",
   "execution_count": null,
   "metadata": {},
   "outputs": [],
   "source": [
    "robot = MotionClient(address = robot_ip)\n",
    "robot.startServer(mode = 'Kinematic', components = [],codename = 'anthrax_lowpoly')\n",
    "robot.startup()\n"
   ]
  },
  {
   "cell_type": "markdown",
   "metadata": {},
   "source": [
    "# Testing independent Process Creation"
   ]
  },
  {
   "cell_type": "code",
   "execution_count": null,
   "metadata": {},
   "outputs": [],
   "source": [
    "import os, shlex,subprocess\n",
    "\n",
    "def start_redis():\n",
    "        print('starting redis')\n",
    "        origWD = os.getcwd() # remember our original working directory\n",
    "        #setting up the start of the redis server\n",
    "        redis_server_path = os.path.expanduser('~/database-server/redis-5.0.4/src/redis-server')\n",
    "        redis_conf_path = os.path.expanduser('~/database-server/redis.conf')\n",
    "        redis_folder = os.path.expanduser('~/database-server')\n",
    "        command_string = '{} {}'.format(redis_server_path,redis_conf_path)\n",
    "        os.chdir(redis_folder)\n",
    "        args = shlex.split(command_string)\n",
    "        redis_process = subprocess.Popen(args,start_new_session= True)\n",
    "\n",
    "        # reverting back to trina directory\n",
    "        os.chdir(origWD)"
   ]
  },
  {
   "cell_type": "code",
   "execution_count": 1,
   "metadata": {},
   "outputs": [
    {
     "ename": "ImportError",
     "evalue": "No module named xmlrpc.client",
     "output_type": "error",
     "traceback": [
      "\u001b[0;31m---------------------------------------------------------------------------\u001b[0m",
      "\u001b[0;31mImportError\u001b[0m                               Traceback (most recent call last)",
      "\u001b[0;32m<ipython-input-1-64c3512c3e41>\u001b[0m in \u001b[0;36m<module>\u001b[0;34m()\u001b[0m\n\u001b[0;32m----> 1\u001b[0;31m \u001b[0;32mfrom\u001b[0m \u001b[0mcommand_server\u001b[0m \u001b[0;32mimport\u001b[0m \u001b[0mCommandServer\u001b[0m\u001b[0;34m\u001b[0m\u001b[0m\n\u001b[0m\u001b[1;32m      2\u001b[0m \u001b[0;32mfrom\u001b[0m \u001b[0mreem\u001b[0m\u001b[0;34m.\u001b[0m\u001b[0mconnection\u001b[0m \u001b[0;32mimport\u001b[0m \u001b[0mRedisInterface\u001b[0m\u001b[0;34m\u001b[0m\u001b[0m\n\u001b[1;32m      3\u001b[0m \u001b[0;32mfrom\u001b[0m \u001b[0mreem\u001b[0m\u001b[0;34m.\u001b[0m\u001b[0mdatatypes\u001b[0m \u001b[0;32mimport\u001b[0m \u001b[0mKeyValueStore\u001b[0m\u001b[0;34m\u001b[0m\u001b[0m\n\u001b[1;32m      4\u001b[0m \u001b[0;34m\u001b[0m\u001b[0m\n\u001b[1;32m      5\u001b[0m \u001b[0;31m# start_redis()\u001b[0m\u001b[0;34m\u001b[0m\u001b[0;34m\u001b[0m\u001b[0m\n",
      "\u001b[0;32m/home/motion/TRINA/Motion/command_server.py\u001b[0m in \u001b[0;36m<module>\u001b[0;34m()\u001b[0m\n\u001b[1;32m      1\u001b[0m \u001b[0;32mimport\u001b[0m \u001b[0mtime\u001b[0m\u001b[0;34m,\u001b[0m\u001b[0mmath\u001b[0m\u001b[0;34m,\u001b[0m\u001b[0mdatetime\u001b[0m\u001b[0;34m\u001b[0m\u001b[0m\n\u001b[1;32m      2\u001b[0m \u001b[0;32mimport\u001b[0m \u001b[0mthreading\u001b[0m\u001b[0;34m\u001b[0m\u001b[0m\n\u001b[0;32m----> 3\u001b[0;31m \u001b[0;32mfrom\u001b[0m \u001b[0mmotion_client_python3\u001b[0m \u001b[0;32mimport\u001b[0m \u001b[0mMotionClient\u001b[0m\u001b[0;34m\u001b[0m\u001b[0m\n\u001b[0m\u001b[1;32m      4\u001b[0m \u001b[0;32mimport\u001b[0m \u001b[0mjson\u001b[0m\u001b[0;34m\u001b[0m\u001b[0m\n\u001b[1;32m      5\u001b[0m \u001b[0;32mfrom\u001b[0m \u001b[0mmultiprocessing\u001b[0m \u001b[0;32mimport\u001b[0m \u001b[0mProcess\u001b[0m\u001b[0;34m,\u001b[0m \u001b[0mManager\u001b[0m\u001b[0;34m,\u001b[0m \u001b[0mPipe\u001b[0m\u001b[0;34m\u001b[0m\u001b[0m\n",
      "\u001b[0;32m/home/motion/TRINA/Motion/motion_client_python3.py\u001b[0m in \u001b[0;36m<module>\u001b[0;34m()\u001b[0m\n\u001b[0;32m----> 1\u001b[0;31m \u001b[0;32mfrom\u001b[0m \u001b[0mxmlrpc\u001b[0m\u001b[0;34m.\u001b[0m\u001b[0mclient\u001b[0m \u001b[0;32mimport\u001b[0m \u001b[0mServerProxy\u001b[0m\u001b[0;34m\u001b[0m\u001b[0m\n\u001b[0m\u001b[1;32m      2\u001b[0m \u001b[0;32mfrom\u001b[0m \u001b[0mthreading\u001b[0m \u001b[0;32mimport\u001b[0m \u001b[0mThread\u001b[0m\u001b[0;34m,\u001b[0m \u001b[0mLock\u001b[0m\u001b[0;34m\u001b[0m\u001b[0m\n\u001b[1;32m      3\u001b[0m \u001b[0;32mimport\u001b[0m \u001b[0mthreading\u001b[0m\u001b[0;34m\u001b[0m\u001b[0m\n\u001b[1;32m      4\u001b[0m \u001b[0;32mimport\u001b[0m \u001b[0mtime\u001b[0m\u001b[0;34m\u001b[0m\u001b[0m\n\u001b[1;32m      5\u001b[0m \u001b[0;32mfrom\u001b[0m \u001b[0mklampt\u001b[0m \u001b[0;32mimport\u001b[0m \u001b[0mWorldModel\u001b[0m\u001b[0;34m\u001b[0m\u001b[0m\n",
      "\u001b[0;31mImportError\u001b[0m: No module named xmlrpc.client"
     ]
    }
   ],
   "source": [
    "from command_serverimport CommandServer\n",
    "from reem.connection import RedisInterface\n",
    "from reem.datatypes import KeyValueStore\n",
    "\n",
    "# start_redis()\n",
    "\n",
    "interface = RedisInterface(host=\"localhost\")\n",
    "interface.initialize()\n",
    "server = KeyValueStore(interface)\n",
    "robot_ip = 'http://localhost:8080'\n",
    "\n"
   ]
  },
  {
   "cell_type": "code",
   "execution_count": null,
   "metadata": {},
   "outputs": [],
   "source": [
    "server['A'] = 0"
   ]
  },
  {
   "cell_type": "code",
   "execution_count": null,
   "metadata": {},
   "outputs": [],
   "source": [
    "server"
   ]
  }
 ],
 "metadata": {
  "kernelspec": {
   "display_name": "Python 3",
   "language": "python",
   "name": "python3"
  },
  "language_info": {
   "codemirror_mode": {
    "name": "ipython",
    "version": 2
   },
   "file_extension": ".py",
   "mimetype": "text/x-python",
   "name": "python",
   "nbconvert_exporter": "python",
   "pygments_lexer": "ipython2",
   "version": "2.7.12"
  },
  "toc": {
   "base_numbering": 1,
   "nav_menu": {},
   "number_sections": true,
   "sideBar": true,
   "skip_h1_title": false,
   "title_cell": "Table of Contents",
   "title_sidebar": "Contents",
   "toc_cell": false,
   "toc_position": {},
   "toc_section_display": true,
   "toc_window_display": false
  },
  "varInspector": {
   "cols": {
    "lenName": 16,
    "lenType": 16,
    "lenVar": 40
   },
   "kernels_config": {
    "python": {
     "delete_cmd_postfix": "",
     "delete_cmd_prefix": "del ",
     "library": "var_list.py",
     "varRefreshCmd": "print(var_dic_list())"
    },
    "r": {
     "delete_cmd_postfix": ") ",
     "delete_cmd_prefix": "rm(",
     "library": "var_list.r",
     "varRefreshCmd": "cat(var_dic_list()) "
    }
   },
   "types_to_exclude": [
    "module",
    "function",
    "builtin_function_or_method",
    "instance",
    "_Feature"
   ],
   "window_display": false
  }
 },
 "nbformat": 4,
 "nbformat_minor": 4
}
