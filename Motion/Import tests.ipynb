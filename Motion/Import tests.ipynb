{
 "cells": [
  {
   "cell_type": "code",
   "execution_count": 4,
   "metadata": {},
   "outputs": [],
   "source": [
    "from importlib import reload \n",
    "import trina_modules\n",
    "import time\n",
    "from threading import Thread\n"
   ]
  },
  {
   "cell_type": "code",
   "execution_count": 5,
   "metadata": {},
   "outputs": [
    {
     "name": "stdout",
     "output_type": "stream",
     "text": [
      "kris\n",
      "2\n",
      "{'C1': <trina_modules.test1.C1 object at 0x7f930d19e4a8>, 'C2': <trina_modules.test2.C2 object at 0x7f930d19e438>}\n",
      "kris\n",
      "2\n",
      "{'C1': <trina_modules.test1.C1 object at 0x7f93097230b8>, 'C2': <trina_modules.test2.C2 object at 0x7f930972ceb8>}\n",
      "kris\n",
      "2\n",
      "{'C1': <trina_modules.test1.C1 object at 0x7f930d19e438>, 'C2': <trina_modules.test2.C2 object at 0x7f93097230b8>}\n",
      "kris\n",
      "2\n",
      "{'C1': <trina_modules.test1.C1 object at 0x7f930d19e0b8>, 'C2': <trina_modules.test2.C2 object at 0x7f930d19e438>}\n",
      "kris\n",
      "2\n",
      "{'C1': <trina_modules.test1.C1 object at 0x7f930d19eef0>, 'C2': <trina_modules.test2.C2 object at 0x7f930d19e0b8>}\n",
      "kris\n",
      "2\n",
      "{'C1': <trina_modules.test1.C1 object at 0x7f930d19e438>, 'C2': <trina_modules.test2.C2 object at 0x7f93096e1048>}\n",
      "kristoffer\n",
      "2\n",
      "{'C1': <trina_modules.test1.C1 object at 0x7f930d19eda0>, 'C2': <trina_modules.test2.C2 object at 0x7f93096e10f0>}\n",
      "kristoffer\n",
      "2\n",
      "{'C1': <trina_modules.test1.C1 object at 0x7f93096e12e8>, 'C2': <trina_modules.test2.C2 object at 0x7f930d19eda0>}\n",
      "kristoffer\n",
      "2\n",
      "{'C1': <trina_modules.test1.C1 object at 0x7f93096e10f0>, 'C2': <trina_modules.test2.C2 object at 0x7f93096e12e8>}\n",
      "kristoffer\n",
      "2\n",
      "{'C1': <trina_modules.test1.C1 object at 0x7f93096e14e0>, 'C2': <trina_modules.test2.C2 object at 0x7f93096e10f0>}\n",
      "kristoffer\n",
      "2\n",
      "{'C1': <trina_modules.test1.C1 object at 0x7f93096e12e8>, 'C2': <trina_modules.test2.C2 object at 0x7f93096e14e0>}\n",
      "kristoffer\n",
      "2\n",
      "{'C1': <trina_modules.test1.C1 object at 0x7f93096e1f98>, 'C2': <trina_modules.test2.C2 object at 0x7f93096e12e8>}\n",
      "kristoffer\n",
      "2\n",
      "{'C1': <trina_modules.test1.C1 object at 0x7f93096e1160>, 'C2': <trina_modules.test2.C2 object at 0x7f93096e1f98>}\n",
      "kristoffer\n",
      "2\n",
      "{'C1': <trina_modules.test1.C1 object at 0x7f93096e11d0>, 'C2': <trina_modules.test2.C2 object at 0x7f93096e1160>}\n",
      "kristoffer\n",
      "2\n",
      "{'C1': <trina_modules.test1.C1 object at 0x7f9308e574a8>, 'C2': <trina_modules.test2.C2 object at 0x7f93096e11d0>}\n",
      "kristoffer\n",
      "2\n",
      "{'C1': <trina_modules.test1.C1 object at 0x7f9308e575f8>, 'C2': <trina_modules.test2.C2 object at 0x7f9308e574a8>}\n",
      "kristoffer\n",
      "2\n",
      "{'C1': <trina_modules.test1.C1 object at 0x7f9308e57748>, 'C2': <trina_modules.test2.C2 object at 0x7f9308e575f8>}\n",
      "kristoffer\n",
      "2\n",
      "{'C1': <trina_modules.test1.C1 object at 0x7f9308e574a8>, 'C2': <trina_modules.test2.C2 object at 0x7f9308e57748>}\n",
      "kristoffer\n",
      "2\n",
      "{'C1': <trina_modules.test1.C1 object at 0x7f9308e575f8>, 'C2': <trina_modules.test2.C2 object at 0x7f9308e574a8>}\n",
      "kristoffer\n",
      "2\n",
      "{'C1': <trina_modules.test1.C1 object at 0x7f9308e57748>, 'C2': <trina_modules.test2.C2 object at 0x7f9308e575f8>}\n"
     ]
    },
    {
     "ename": "KeyboardInterrupt",
     "evalue": "",
     "output_type": "error",
     "traceback": [
      "\u001b[0;31m---------------------------------------\u001b[0m",
      "\u001b[0;31mKeyboardInterrupt\u001b[0mTraceback (most recent call last)",
      "\u001b[0;32m<ipython-input-5-d03113de37c8>\u001b[0m in \u001b[0;36m<module>\u001b[0;34m\u001b[0m\n\u001b[1;32m     10\u001b[0m             \u001b[0mprint\u001b[0m\u001b[0;34m(\u001b[0m\u001b[0mtmp\u001b[0m\u001b[0;34m.\u001b[0m\u001b[0mname\u001b[0m\u001b[0;34m)\u001b[0m\u001b[0;34m\u001b[0m\u001b[0;34m\u001b[0m\u001b[0m\n\u001b[1;32m     11\u001b[0m     \u001b[0mprint\u001b[0m\u001b[0;34m(\u001b[0m\u001b[0mmodules_dict\u001b[0m\u001b[0;34m)\u001b[0m\u001b[0;34m\u001b[0m\u001b[0;34m\u001b[0m\u001b[0m\n\u001b[0;32m---> 12\u001b[0;31m     \u001b[0mtime\u001b[0m\u001b[0;34m.\u001b[0m\u001b[0msleep\u001b[0m\u001b[0;34m(\u001b[0m\u001b[0;36m3\u001b[0m\u001b[0;34m)\u001b[0m\u001b[0;34m\u001b[0m\u001b[0;34m\u001b[0m\u001b[0m\n\u001b[0m",
      "\u001b[0;31mKeyboardInterrupt\u001b[0m: "
     ]
    }
   ],
   "source": [
    "import sys, inspect\n",
    "\n",
    "modules_dict = {}\n",
    "while(True):\n",
    "    trina_modules = reload(trina_modules)\n",
    "    for name, obj in inspect.getmembers(trina_modules):\n",
    "        if inspect.isclass(obj):\n",
    "            tmp = obj()\n",
    "            modules_dict.update({name:tmp})\n",
    "            print(tmp.name)\n",
    "    print(modules_dict)\n",
    "    time.sleep(3)"
   ]
  },
  {
   "cell_type": "code",
   "execution_count": null,
   "metadata": {},
   "outputs": [],
   "source": [
    "a = inspect.getmembers(trina_modules)"
   ]
  },
  {
   "cell_type": "code",
   "execution_count": null,
   "metadata": {},
   "outputs": [],
   "source": [
    "a"
   ]
  }
 ],
 "metadata": {
  "kernelspec": {
   "display_name": "Python 3",
   "language": "python",
   "name": "python3"
  },
  "language_info": {
   "codemirror_mode": {
    "name": "ipython",
    "version": 3
   },
   "file_extension": ".py",
   "mimetype": "text/x-python",
   "name": "python",
   "nbconvert_exporter": "python",
   "pygments_lexer": "ipython3",
   "version": "3.6.9"
  },
  "toc": {
   "base_numbering": 1,
   "nav_menu": {},
   "number_sections": true,
   "sideBar": true,
   "skip_h1_title": false,
   "title_cell": "Table of Contents",
   "title_sidebar": "Contents",
   "toc_cell": false,
   "toc_position": {},
   "toc_section_display": true,
   "toc_window_display": false
  }
 },
 "nbformat": 4,
 "nbformat_minor": 4
}
