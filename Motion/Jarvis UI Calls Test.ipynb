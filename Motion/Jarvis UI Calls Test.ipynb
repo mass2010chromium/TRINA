{
 "cells": [
  {
   "cell_type": "code",
   "execution_count": 1,
   "metadata": {},
   "outputs": [],
   "source": [
    "from jarvis import Jarvis\n",
    "import klampt\n",
    "from klampt.model import ik,coordinates,config,trajectory,collide\n",
    "from klampt import io"
   ]
  },
  {
   "cell_type": "code",
   "execution_count": 2,
   "metadata": {},
   "outputs": [],
   "source": [
    "jarvis = Jarvis()"
   ]
  },
  {
   "cell_type": "code",
   "execution_count": 3,
   "metadata": {},
   "outputs": [
    {
     "name": "stdout",
     "output_type": "stream",
     "text": [
      "commandQueue [{'args': {'position': '(50,50)', 'text': 'test string'}, 'funcName': 'addText'}]\n"
     ]
    }
   ],
   "source": [
    "jarvis.addTextUI('test string','(50,50)')"
   ]
  },
  {
   "cell_type": "code",
   "execution_count": 4,
   "metadata": {},
   "outputs": [
    {
     "name": "stdout",
     "output_type": "stream",
     "text": [
      "commandQueue [{'args': {'id': '$613e0b94a76411ea82a40c5415f1d385', 'title': 'confirm title', 'text': 'confirm?'}, 'funcName': 'addConfirmation'}]\n"
     ]
    },
    {
     "data": {
      "text/plain": [
       "'NO'"
      ]
     },
     "execution_count": 4,
     "metadata": {},
     "output_type": "execute_result"
    }
   ],
   "source": [
    "jarvis.addConfirmationUI('confirm title','confirm?')"
   ]
  },
  {
   "cell_type": "code",
   "execution_count": 7,
   "metadata": {},
   "outputs": [],
   "source": [
    "file_dir = \"data/TRINA_world_anthrax_PointClick.xml\"\n",
    "world = klampt.WorldModel()\n",
    "res = world.readFile(file_dir)\n",
    "robot = world.robot(0)\n",
    "times = list(range(3))\n",
    "milestones = []\n",
    "for t in times:\n",
    "#     robot.randomizeConfig()\n",
    "    milestones.append(robot.getConfig())\n",
    "traj = trajectory.RobotTrajectory(robot,times,milestones)"
   ]
  },
  {
   "cell_type": "code",
   "execution_count": 8,
   "metadata": {},
   "outputs": [
    {
     "name": "stdout",
     "output_type": "stream",
     "text": [
      "commandQueue [{'args': {'trajectory': {'milestones': [[0.0, 0.0, 0.0, 0.0, 0.0, 0.0, 0.0, 0.0, 0.0, 0.0, 0.0, 0.0, 0.0, 0.0, 0.0, 0.0, 0.0, 0.0, 0.0, 0.0, 0.0, 0.0], [0.0, 0.0, 0.0, 0.0, 0.0, 0.0, 0.0, 0.0, 0.0, 0.0, 0.0, 0.0, 0.0, 0.0, 0.0, 0.0, 0.0, 0.0, 0.0, 0.0, 0.0, 0.0], [0.0, 0.0, 0.0, 0.0, 0.0, 0.0, 0.0, 0.0, 0.0, 0.0, 0.0, 0.0, 0.0, 0.0, 0.0, 0.0, 0.0, 0.0, 0.0, 0.0, 0.0, 0.0]], 'times': [0, 1, 2]}}, 'funcName': 'sendTrajectory'}]\n"
     ]
    }
   ],
   "source": [
    "jarvis.sendTrajectoryUI(traj)"
   ]
  },
  {
   "cell_type": "code",
   "execution_count": 11,
   "metadata": {},
   "outputs": [
    {
     "name": "stdout",
     "output_type": "stream",
     "text": [
      "commandQueue [{'args': {'id': '$2d9a8beaa76f11ea82a40c5415f1d385'}, 'funcName': 'getRayClick'}]\n"
     ]
    },
    {
     "data": {
      "text/plain": [
       "{'FIRST_RAY': {'destination': [-0.9412561556809274,\n",
       "   0.0461339541469806,\n",
       "   -0.3345272898696402],\n",
       "  'source': [15.060743054646457, -2.1346212741247017, 4.374065111645552]},\n",
       " 'SECOND_RAY': {'destination': [-0.9180174140741394,\n",
       "   -0.02936299161529702,\n",
       "   -0.39545144098868834],\n",
       "  'source': [14.766624512139147, 1.1720227139352737, 5.575679171047522]}}"
      ]
     },
     "execution_count": 11,
     "metadata": {},
     "output_type": "execute_result"
    }
   ],
   "source": [
    "jarvis.getRayClickUI()"
   ]
  },
  {
   "cell_type": "code",
   "execution_count": null,
   "metadata": {},
   "outputs": [],
   "source": []
  }
 ],
 "metadata": {
  "kernelspec": {
   "display_name": "Python 3",
   "language": "python",
   "name": "python3"
  },
  "language_info": {
   "codemirror_mode": {
    "name": "ipython",
    "version": 3
   },
   "file_extension": ".py",
   "mimetype": "text/x-python",
   "name": "python",
   "nbconvert_exporter": "python",
   "pygments_lexer": "ipython3",
   "version": "3.5.2"
  }
 },
 "nbformat": 4,
 "nbformat_minor": 4
}
