{
 "cells": [
  {
   "cell_type": "code",
   "execution_count": 1,
   "metadata": {},
   "outputs": [],
   "source": [
    "from jarvis import Jarvis\n",
    "import klampt\n",
    "from klampt.model import ik,coordinates,config,trajectory,collide\n",
    "from klampt import io"
   ]
  },
  {
   "cell_type": "markdown",
   "metadata": {},
   "source": [
    "## Start Jarvis"
   ]
  },
  {
   "cell_type": "code",
   "execution_count": 2,
   "metadata": {},
   "outputs": [],
   "source": [
    "jarvis = Jarvis()"
   ]
  },
  {
   "cell_type": "markdown",
   "metadata": {},
   "source": [
    "#### Add text to specfified location on UI screen. "
   ]
  },
  {
   "cell_type": "code",
   "execution_count": 3,
   "metadata": {},
   "outputs": [
    {
     "name": "stdout",
     "output_type": "stream",
     "text": [
      "commandQueue [{'args': {'color': [1, 0, 0], 'text': 'test string', 'size': 50, 'name': 'text1'}, 'funcName': 'addText'}]\n"
     ]
    },
    {
     "data": {
      "text/plain": [
       "'text1'"
      ]
     },
     "execution_count": 3,
     "metadata": {},
     "output_type": "execute_result"
    }
   ],
   "source": [
    "jarvis.addTextUI('text1','test string',[1,0,0],50)"
   ]
  },
  {
   "cell_type": "markdown",
   "metadata": {},
   "source": [
    "#### Display a confimation window with specified title and text, a string of 'YES' or \"NO\" is returned\n",
    "* BLOCKING"
   ]
  },
  {
   "cell_type": "code",
   "execution_count": 4,
   "metadata": {},
   "outputs": [
    {
     "name": "stdout",
     "output_type": "stream",
     "text": [
      "commandQueue [{'args': {'title': 'confirm title', 'id': '$4510de68a87911eabb300c5415f1d385', 'text': 'confirm?'}, 'funcName': 'addConfirmation'}]\n"
     ]
    },
    {
     "data": {
      "text/plain": [
       "'YES'"
      ]
     },
     "execution_count": 4,
     "metadata": {},
     "output_type": "execute_result"
    }
   ],
   "source": [
    "jarvis.sendAndGetConfirmationUI('confirm title','confirm?')"
   ]
  },
  {
   "cell_type": "markdown",
   "metadata": {},
   "source": [
    "#### Display a confimation window with specified title and text, id for UI feedback is returned"
   ]
  },
  {
   "cell_type": "code",
   "execution_count": 5,
   "metadata": {},
   "outputs": [
    {
     "name": "stdout",
     "output_type": "stream",
     "text": [
      "commandQueue [{'args': {'title': 'confirm title', 'id': '$49648500a87911eabb300c5415f1d385', 'text': 'confirm?'}, 'funcName': 'addConfirmation'}]\n"
     ]
    },
    {
     "data": {
      "text/plain": [
       "'$49648500a87911eabb300c5415f1d385'"
      ]
     },
     "execution_count": 5,
     "metadata": {},
     "output_type": "execute_result"
    }
   ],
   "source": [
    "jarvis.sendConfirmationUI('confirm title','confirm?')"
   ]
  },
  {
   "cell_type": "markdown",
   "metadata": {},
   "source": [
    "#### Get the feedback of Confirmation Window of the specified id. "
   ]
  },
  {
   "cell_type": "code",
   "execution_count": 7,
   "metadata": {},
   "outputs": [
    {
     "data": {
      "text/plain": [
       "'YES'"
      ]
     },
     "execution_count": 7,
     "metadata": {},
     "output_type": "execute_result"
    }
   ],
   "source": [
    "jarvis.getConfirmationUI('$49648500a87911eabb300c5415f1d385')"
   ]
  },
  {
   "cell_type": "markdown",
   "metadata": {},
   "source": [
    "#### Send a trajectory to UI, UI will add the path preview "
   ]
  },
  {
   "cell_type": "code",
   "execution_count": 8,
   "metadata": {},
   "outputs": [
    {
     "name": "stdout",
     "output_type": "stream",
     "text": [
      "commandQueue [{'args': {'animate': False, 'trajectory': {'milestones': [[0, 0, 0.05], [0, 1, 0.05], [0, 2, 0.05], [0, 3, 0.05], [0, 4, 0.05], [0, 5, 0.05], [0, 6, 0.05], [0, 7, 0.05], [0, 8, 0.05], [0, 9, 0.05]], 'times': [0, 1, 2, 3, 4, 5, 6, 7, 8, 9]}}, 'funcName': 'sendTrajectory'}]\n"
     ]
    }
   ],
   "source": [
    "times = list(range(10))\n",
    "milestones = []\n",
    "for t in times:\n",
    "    milestones.append([0,t,0.05])\n",
    "traj = trajectory.Trajectory(times,milestones)\n",
    "\n",
    "jarvis.sendTrajectoryUI(traj)"
   ]
  },
  {
   "cell_type": "markdown",
   "metadata": {},
   "source": [
    "#### Ask the user to click twice on the map, and sending back 2 ray objects according to the user clicks. first one for destination, second one for calibration. Both ray would be returned\n",
    "* BLOCKING"
   ]
  },
  {
   "cell_type": "code",
   "execution_count": 9,
   "metadata": {},
   "outputs": [
    {
     "name": "stdout",
     "output_type": "stream",
     "text": [
      "commandQueue [{'args': {'id': '$57b2d6c0a87911eabb300c5415f1d385'}, 'funcName': 'getRayClick'}]\n"
     ]
    },
    {
     "data": {
      "text/plain": [
       "{'FIRST_RAY': {'destination': [-0.8178413254349179,\n",
       "   -0.10595076998824436,\n",
       "   -0.5656058705050315],\n",
       "  'source': [10.115345032757853, 1.2115301458975627, 5.56553314204785]},\n",
       " 'SECOND_RAY': {'destination': [-0.8407739122584021,\n",
       "   -0.18254035729590218,\n",
       "   -0.509684457702984],\n",
       "  'source': [10.115345032757853, 1.2115301458975627, 5.56553314204785]}}"
      ]
     },
     "execution_count": 9,
     "metadata": {},
     "output_type": "execute_result"
    }
   ],
   "source": [
    "jarvis.sendAndGetRayClickUI()"
   ]
  },
  {
   "cell_type": "markdown",
   "metadata": {},
   "source": [
    "#### Ask the user to click twice on the map, and sending back 2 ray objects according to the user clicks. first one for destination, second one for calibration,. id for feedback is returned"
   ]
  },
  {
   "cell_type": "code",
   "execution_count": 10,
   "metadata": {},
   "outputs": [
    {
     "name": "stdout",
     "output_type": "stream",
     "text": [
      "commandQueue [{'args': {'id': '$5cacfd5ea87911eabb300c5415f1d385'}, 'funcName': 'getRayClick'}]\n"
     ]
    },
    {
     "data": {
      "text/plain": [
       "'$5cacfd5ea87911eabb300c5415f1d385'"
      ]
     },
     "execution_count": 10,
     "metadata": {},
     "output_type": "execute_result"
    }
   ],
   "source": [
    "jarvis.sendRayClickUI()"
   ]
  },
  {
   "cell_type": "markdown",
   "metadata": {},
   "source": [
    "#### Get the feedback of Ray Click of the specified id."
   ]
  },
  {
   "cell_type": "code",
   "execution_count": 11,
   "metadata": {},
   "outputs": [
    {
     "data": {
      "text/plain": [
       "{'FIRST_RAY': {'destination': [-0.8451463291876744,\n",
       "   -0.07448546815131644,\n",
       "   -0.529319938501166],\n",
       "  'source': [10.115345032757853, 1.2115301458975627, 5.56553314204785]},\n",
       " 'SECOND_RAY': {'destination': [-0.8118642439565331,\n",
       "   -0.1787923187834058,\n",
       "   -0.5557965060424],\n",
       "  'source': [10.115345032757853, 1.2115301458975627, 5.56553314204785]}}"
      ]
     },
     "execution_count": 11,
     "metadata": {},
     "output_type": "execute_result"
    }
   ],
   "source": [
    "jarvis.getRayClickUI('$5cacfd5ea87911eabb300c5415f1d385')"
   ]
  },
  {
   "cell_type": "markdown",
   "metadata": {},
   "source": [
    "#### Add a button to the UI window"
   ]
  },
  {
   "cell_type": "code",
   "execution_count": 12,
   "metadata": {},
   "outputs": [
    {
     "name": "stdout",
     "output_type": "stream",
     "text": [
      "commandQueue [{'args': {'text': 'testbutton', 'name': 'button1'}, 'funcName': 'addButton'}]\n"
     ]
    },
    {
     "data": {
      "text/plain": [
       "'button1'"
      ]
     },
     "execution_count": 12,
     "metadata": {},
     "output_type": "execute_result"
    }
   ],
   "source": [
    "jarvis.addButtonUI('button1','testbutton')"
   ]
  },
  {
   "cell_type": "markdown",
   "metadata": {},
   "source": [
    "#### A loop checking if created button is clicked"
   ]
  },
  {
   "cell_type": "code",
   "execution_count": 13,
   "metadata": {},
   "outputs": [
    {
     "name": "stdout",
     "output_type": "stream",
     "text": [
      "button is clicked\n",
      "button is clicked\n",
      "button is clicked\n",
      "button is clicked\n",
      "button is clicked\n",
      "button is clicked\n",
      "button is clicked\n"
     ]
    }
   ],
   "source": [
    "n = 0\n",
    "while(n<10000):\n",
    "    n += 1\n",
    "    if jarvis.getButtonClickUI('button1'):\n",
    "        print(\"button is clicked\")"
   ]
  },
  {
   "cell_type": "code",
   "execution_count": 14,
   "metadata": {},
   "outputs": [
    {
     "name": "stdout",
     "output_type": "stream",
     "text": [
      "commandQueue [{'args': {'text': 'testbutton2', 'name': 'button2'}, 'funcName': 'addButton'}]\n"
     ]
    },
    {
     "data": {
      "text/plain": [
       "'button2'"
      ]
     },
     "execution_count": 14,
     "metadata": {},
     "output_type": "execute_result"
    }
   ],
   "source": [
    "jarvis.addButtonUI('button2','testbutton2')"
   ]
  },
  {
   "cell_type": "code",
   "execution_count": null,
   "metadata": {},
   "outputs": [],
   "source": []
  }
 ],
 "metadata": {
  "celltoolbar": "Raw Cell Format",
  "kernelspec": {
   "display_name": "Python 3",
   "language": "python",
   "name": "python3"
  },
  "language_info": {
   "codemirror_mode": {
    "name": "ipython",
    "version": 3
   },
   "file_extension": ".py",
   "mimetype": "text/x-python",
   "name": "python",
   "nbconvert_exporter": "python",
   "pygments_lexer": "ipython3",
   "version": "3.5.2"
  }
 },
 "nbformat": 4,
 "nbformat_minor": 4
}
