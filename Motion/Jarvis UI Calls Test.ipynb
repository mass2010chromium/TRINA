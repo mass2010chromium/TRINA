{
 "cells": [
  {
   "cell_type": "code",
   "execution_count": 1,
   "metadata": {},
   "outputs": [],
   "source": [
    "from jarvis import Jarvis\n",
    "import klampt\n",
    "from klampt.model import ik,coordinates,config,trajectory,collide\n",
    "from klampt import io"
   ]
  },
  {
   "cell_type": "markdown",
   "metadata": {},
   "source": [
    "## start jarvis"
   ]
  },
  {
   "cell_type": "code",
   "execution_count": 2,
   "metadata": {},
   "outputs": [],
   "source": [
    "jarvis = Jarvis()"
   ]
  },
  {
   "cell_type": "markdown",
   "metadata": {},
   "source": [
    "#### Add text to specfified location on UI screen. "
   ]
  },
  {
   "cell_type": "code",
   "execution_count": 8,
   "metadata": {},
   "outputs": [
    {
     "name": "stdout",
     "output_type": "stream",
     "text": [
      "commandQueue [{'funcName': 'addText', 'args': {'color': [1, 0, 0], 'text': 'test string', 'name': 'text1', 'size': 50}}]\n"
     ]
    }
   ],
   "source": [
    "jarvis.addTextUI('text1','test string',[1,0,0],50)"
   ]
  },
  {
   "cell_type": "markdown",
   "metadata": {},
   "source": [
    "#### Display a confimation window with specified title and text, a string of 'YES' or \"NO\" is returned\n",
    "* BLOCKING"
   ]
  },
  {
   "cell_type": "code",
   "execution_count": null,
   "metadata": {},
   "outputs": [],
   "source": [
    "jarvis.sendAndGetConfirmationUI('confirm title','confirm?')"
   ]
  },
  {
   "cell_type": "markdown",
   "metadata": {},
   "source": [
    "#### Display a confimation window with specified title and text, id for UI feedback is returned"
   ]
  },
  {
   "cell_type": "code",
   "execution_count": 3,
   "metadata": {},
   "outputs": [
    {
     "name": "stdout",
     "output_type": "stream",
     "text": [
      "commandQueue [{'funcName': 'addConfirmation', 'args': {'title': 'confirm title', 'id': '$95b60f6aa86e11eabb300c5415f1d385', 'text': 'confirm?'}}]\n"
     ]
    },
    {
     "data": {
      "text/plain": [
       "'$95b60f6aa86e11eabb300c5415f1d385'"
      ]
     },
     "execution_count": 3,
     "metadata": {},
     "output_type": "execute_result"
    }
   ],
   "source": [
    "jarvis.sendConfirmationUI('confirm title','confirm?')"
   ]
  },
  {
   "cell_type": "markdown",
   "metadata": {},
   "source": [
    "#### Get the feedback of Confirmation Window of the specified id. "
   ]
  },
  {
   "cell_type": "code",
   "execution_count": 4,
   "metadata": {},
   "outputs": [
    {
     "data": {
      "text/plain": [
       "'YES'"
      ]
     },
     "execution_count": 4,
     "metadata": {},
     "output_type": "execute_result"
    }
   ],
   "source": [
    "jarvis.getConfirmationUI('$95b60f6aa86e11eabb300c5415f1d385')"
   ]
  },
  {
   "cell_type": "markdown",
   "metadata": {},
   "source": [
    "#### Send a trajectory to UI, UI will add the path preview "
   ]
  },
  {
   "cell_type": "code",
   "execution_count": 9,
   "metadata": {},
   "outputs": [
    {
     "name": "stdout",
     "output_type": "stream",
     "text": [
      "commandQueue [{'funcName': 'sendTrajectory', 'args': {'trajectory': {'times': [0, 1, 2, 3, 4, 5, 6, 7, 8, 9], 'milestones': [[0, 0, 0.05], [0, 1, 0.05], [0, 2, 0.05], [0, 3, 0.05], [0, 4, 0.05], [0, 5, 0.05], [0, 6, 0.05], [0, 7, 0.05], [0, 8, 0.05], [0, 9, 0.05]]}, 'animate': False}}]\n"
     ]
    }
   ],
   "source": [
    "times = list(range(10))\n",
    "milestones = []\n",
    "for t in times:\n",
    "    milestones.append([0,t,0.05])\n",
    "traj = trajectory.Trajectory(times,milestones)\n",
    "\n",
    "jarvis.sendTrajectoryUI(traj)"
   ]
  },
  {
   "cell_type": "markdown",
   "metadata": {},
   "source": [
    "#### Ask the user to click twice on the map, and sending back 2 ray objects according to the user clicks. first one for destination, second one for calibration. Both ray would be returned\n",
    "* BLOCKING"
   ]
  },
  {
   "cell_type": "code",
   "execution_count": 10,
   "metadata": {},
   "outputs": [
    {
     "name": "stdout",
     "output_type": "stream",
     "text": [
      "commandQueue [{'funcName': 'getRayClick', 'args': {'id': '$6f37747ea86d11eabb300c5415f1d385'}}]\n"
     ]
    },
    {
     "data": {
      "text/plain": [
       "{'FIRST_RAY': {'destination': [-0.8866734902882496,\n",
       "   -0.13633661429014332,\n",
       "   -0.44183984567256307],\n",
       "  'source': [9.884021976178197, 0.38768860434928054, 3.8365959218017163]},\n",
       " 'SECOND_RAY': {'destination': [-0.9252223261228335,\n",
       "   0.032754302817879916,\n",
       "   -0.3780089984256564],\n",
       "  'source': [9.884021976178197, 0.38768860434928054, 3.8365959218017163]}}"
      ]
     },
     "execution_count": 10,
     "metadata": {},
     "output_type": "execute_result"
    }
   ],
   "source": [
    "jarvis.sendAndGetRayClickUI()"
   ]
  },
  {
   "cell_type": "markdown",
   "metadata": {},
   "source": [
    "#### Ask the user to click twice on the map, and sending back 2 ray objects according to the user clicks. first one for destination, second one for calibration,. id for feedback is returned"
   ]
  },
  {
   "cell_type": "code",
   "execution_count": 11,
   "metadata": {},
   "outputs": [
    {
     "name": "stdout",
     "output_type": "stream",
     "text": [
      "commandQueue [{'funcName': 'getRayClick', 'args': {'id': '$8dec29a0a86d11eabb300c5415f1d385'}}]\n"
     ]
    },
    {
     "data": {
      "text/plain": [
       "'$8dec29a0a86d11eabb300c5415f1d385'"
      ]
     },
     "execution_count": 11,
     "metadata": {},
     "output_type": "execute_result"
    }
   ],
   "source": [
    "jarvis.sendRayClickUI()"
   ]
  },
  {
   "cell_type": "markdown",
   "metadata": {},
   "source": [
    "#### Get the feedback of Ray Click of the specified id."
   ]
  },
  {
   "cell_type": "code",
   "execution_count": 3,
   "metadata": {},
   "outputs": [
    {
     "data": {
      "text/plain": [
       "{'FIRST_RAY': {'destination': [-0.9003613521565645,\n",
       "   -0.03354615044155396,\n",
       "   -0.43384800487423647],\n",
       "  'source': [9.884021976178197, 0.38768860434928054, 3.8365959218017163]},\n",
       " 'SECOND_RAY': {'destination': [-0.906354658054288,\n",
       "   -0.15094670108891278,\n",
       "   -0.39463442228684115],\n",
       "  'source': [9.884021976178197, 0.38768860434928054, 3.8365959218017163]}}"
      ]
     },
     "execution_count": 3,
     "metadata": {},
     "output_type": "execute_result"
    }
   ],
   "source": [
    "jarvis.getRayClickUI('$8dec29a0a86d11eabb300c5415f1d385')"
   ]
  },
  {
   "cell_type": "code",
   "execution_count": null,
   "metadata": {},
   "outputs": [],
   "source": []
  }
 ],
 "metadata": {
  "celltoolbar": "Raw Cell Format",
  "kernelspec": {
   "display_name": "Python 3",
   "language": "python",
   "name": "python3"
  },
  "language_info": {
   "codemirror_mode": {
    "name": "ipython",
    "version": 3
   },
   "file_extension": ".py",
   "mimetype": "text/x-python",
   "name": "python",
   "nbconvert_exporter": "python",
   "pygments_lexer": "ipython3",
   "version": "3.5.2"
  }
 },
 "nbformat": 4,
 "nbformat_minor": 4
}
