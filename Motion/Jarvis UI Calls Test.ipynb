{
 "cells": [
  {
   "cell_type": "code",
   "execution_count": 1,
   "metadata": {},
   "outputs": [],
   "source": [
    "from jarvis import Jarvis\n",
    "import klampt\n",
    "from klampt.model import ik,coordinates,config,trajectory,collide\n",
    "from klampt import io"
   ]
  },
  {
   "cell_type": "code",
   "execution_count": 2,
   "metadata": {},
   "outputs": [],
   "source": [
    "jarvis = Jarvis()"
   ]
  },
  {
   "cell_type": "code",
   "execution_count": 3,
   "metadata": {},
   "outputs": [
    {
     "name": "stdout",
     "output_type": "stream",
     "text": [
      "commandQueue [{'funcName': 'addText', 'args': {'text': 'test string', 'position': '(50,50)'}}]\n"
     ]
    }
   ],
   "source": [
    "jarvis.addTextUI('test string','(50,50)')"
   ]
  },
  {
   "cell_type": "code",
   "execution_count": 5,
   "metadata": {},
   "outputs": [
    {
     "name": "stdout",
     "output_type": "stream",
     "text": [
      "commandQueue [{'funcName': 'addConfirmation', 'args': {'id': '$ac8eef80a83311eaa4ce6c71d946cda6', 'title': 'confirm title', 'text': 'confirm?'}}]\n"
     ]
    },
    {
     "data": {
      "text/plain": [
       "'YES'"
      ]
     },
     "execution_count": 5,
     "metadata": {},
     "output_type": "execute_result"
    }
   ],
   "source": [
    "jarvis.addConfirmationUI('confirm title','confirm?')"
   ]
  },
  {
   "cell_type": "code",
   "execution_count": 12,
   "metadata": {},
   "outputs": [],
   "source": [
    "file_dir = \"data/TRINA_world_anthrax_PointClick.xml\"\n",
    "world = klampt.WorldModel()\n",
    "res = world.readFile(file_dir)\n",
    "robot = world.robot(0)\n",
    "times = list(range(3))\n",
    "milestones = []\n",
    "for t in times:\n",
    "    robot.randomizeConfig()\n",
    "    milestones.append([0,t,0.05])\n",
    "traj = trajectory.Trajectory(times,milestones)"
   ]
  },
  {
   "cell_type": "code",
   "execution_count": 14,
   "metadata": {},
   "outputs": [
    {
     "name": "stdout",
     "output_type": "stream",
     "text": [
      "commandQueue [{'funcName': 'sendTrajectory', 'args': {'trajectory': {'times': [0, 1, 2], 'milestones': [[0, 0, 0.05], [0, 1, 0.05], [0, 2, 0.05]]}, 'animate': False}}]\n"
     ]
    }
   ],
   "source": [
    "jarvis.sendTrajectoryUI(traj,False)"
   ]
  },
  {
   "cell_type": "code",
   "execution_count": 15,
   "metadata": {},
   "outputs": [
    {
     "name": "stdout",
     "output_type": "stream",
     "text": [
      "commandQueue [{'funcName': 'getRayClick', 'args': {'id': '$95bc63c6a83511eaa4ce6c71d946cda6'}}]\n"
     ]
    },
    {
     "data": {
      "text/plain": [
       "{'FIRST_RAY': {'source': [-0.9040536308275002,\n",
       "   -6.415281534755969,\n",
       "   14.0967744461086],\n",
       "  'destination': [-0.08025423685338852,\n",
       "   0.4432426758061244,\n",
       "   -0.8928018748923567]},\n",
       " 'SECOND_RAY': {'source': [-0.9040536308275002,\n",
       "   -6.415281534755969,\n",
       "   14.0967744461086],\n",
       "  'destination': [0.002895603775963998,\n",
       "   0.38841859491065817,\n",
       "   -0.9214784916678211]}}"
      ]
     },
     "execution_count": 15,
     "metadata": {},
     "output_type": "execute_result"
    }
   ],
   "source": [
    "jarvis.getRayClickUI()"
   ]
  },
  {
   "cell_type": "code",
   "execution_count": 7,
   "metadata": {},
   "outputs": [
    {
     "data": {
      "text/plain": [
       "{'$a21c002ea83311eaa4ce6c71d946cda6': {'REPLIED': True, 'MSG': 'NO'},\n",
       " '$ac8eef80a83311eaa4ce6c71d946cda6': {'REPLIED': True, 'MSG': 'YES'},\n",
       " '$dc00a8c6a83311eaa4ce6c71d946cda6': {'REPLIED': True,\n",
       "  'MSG': {'FIRST_RAY': {'source': [6.688094400985458,\n",
       "     24.016983755763704,\n",
       "     44.48718607444848],\n",
       "    'destination': [-0.06779964803214605,\n",
       "     -0.48591525313947015,\n",
       "     -0.8713722364713726]},\n",
       "   'SECOND_RAY': {'source': [6.688094400985458,\n",
       "     24.016983755763704,\n",
       "     44.48718607444848],\n",
       "    'destination': [-0.12177651991264268,\n",
       "     -0.45051822452517143,\n",
       "     -0.8844228675066318]}}}}"
      ]
     },
     "execution_count": 7,
     "metadata": {},
     "output_type": "execute_result"
    }
   ],
   "source": [
    "jarvis.server['UI_FEEDBACK'].read()"
   ]
  },
  {
   "cell_type": "code",
   "execution_count": null,
   "metadata": {},
   "outputs": [],
   "source": []
  }
 ],
 "metadata": {
  "kernelspec": {
   "display_name": "Python 3",
   "language": "python",
   "name": "python3"
  },
  "language_info": {
   "codemirror_mode": {
    "name": "ipython",
    "version": 3
   },
   "file_extension": ".py",
   "mimetype": "text/x-python",
   "name": "python",
   "nbconvert_exporter": "python",
   "pygments_lexer": "ipython3",
   "version": "3.6.9"
  },
  "toc": {
   "base_numbering": 1,
   "nav_menu": {},
   "number_sections": true,
   "sideBar": true,
   "skip_h1_title": false,
   "title_cell": "Table of Contents",
   "title_sidebar": "Contents",
   "toc_cell": false,
   "toc_position": {},
   "toc_section_display": true,
   "toc_window_display": false
  }
 },
 "nbformat": 4,
 "nbformat_minor": 4
}
