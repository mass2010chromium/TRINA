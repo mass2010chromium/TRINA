{
 "cells": [
  {
   "cell_type": "code",
   "execution_count": 1,
   "metadata": {},
   "outputs": [],
   "source": [
    "import shlex, subprocess,sys, inspect\n"
   ]
  },
  {
   "cell_type": "code",
   "execution_count": 2,
   "metadata": {},
   "outputs": [],
   "source": [
    "import trina_modules"
   ]
  },
  {
   "cell_type": "code",
   "execution_count": 25,
   "metadata": {},
   "outputs": [
    {
     "name": "stdout",
     "output_type": "stream",
     "text": [
      "8\n",
      "<class 'trina_modules.test1.C1'>\n",
      "8\n",
      "<class 'trina_modules.test2.C2'>\n",
      "-1\n",
      "-1\n",
      "-1\n",
      "8\n",
      "<class 'trina_modules.UI.UI.UI'>\n",
      "-1\n"
     ]
    }
   ],
   "source": [
    "for name, obj in inspect.getmembers(trina_modules):\n",
    "    if inspect.isclass(obj):\n",
    "        if(str(obj).find('trina_modules') != -1):\n",
    "            print(str(obj))\n",
    "\n",
    "#                         tmp = self.start_module(obj)\n",
    "#                         self.modules_dict.update({name:tmp})\n",
    "#                         self.health_dict.update({name:[True,time.time()]})\n",
    "#             self.server['health_log'] = self.health_dict"
   ]
  },
  {
   "cell_type": "code",
   "execution_count": 23,
   "metadata": {},
   "outputs": [
    {
     "data": {
      "text/plain": [
       "-1"
      ]
     },
     "execution_count": 23,
     "metadata": {},
     "output_type": "execute_result"
    }
   ],
   "source": []
  }
 ],
 "metadata": {
  "kernelspec": {
   "display_name": "Python 3",
   "language": "python",
   "name": "python3"
  },
  "language_info": {
   "codemirror_mode": {
    "name": "ipython",
    "version": 3
   },
   "file_extension": ".py",
   "mimetype": "text/x-python",
   "name": "python",
   "nbconvert_exporter": "python",
   "pygments_lexer": "ipython3",
   "version": "3.6.9"
  },
  "toc": {
   "base_numbering": 1,
   "nav_menu": {},
   "number_sections": true,
   "sideBar": true,
   "skip_h1_title": false,
   "title_cell": "Table of Contents",
   "title_sidebar": "Contents",
   "toc_cell": false,
   "toc_position": {},
   "toc_section_display": true,
   "toc_window_display": false
  }
 },
 "nbformat": 4,
 "nbformat_minor": 2
}
